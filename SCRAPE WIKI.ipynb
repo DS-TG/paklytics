{
 "cells": [
  {
   "cell_type": "code",
   "execution_count": 4,
   "id": "bbc69641",
   "metadata": {},
   "outputs": [
    {
     "name": "stdout",
     "output_type": "stream",
     "text": [
      "Collecting bs4\n",
      "  Downloading bs4-0.0.1.tar.gz (1.1 kB)\n",
      "Requirement already satisfied: beautifulsoup4 in /Users/shakeel/opt/anaconda3/lib/python3.9/site-packages (from bs4) (4.11.1)\n",
      "Requirement already satisfied: soupsieve>1.2 in /Users/shakeel/opt/anaconda3/lib/python3.9/site-packages (from beautifulsoup4->bs4) (2.3.1)\n",
      "Building wheels for collected packages: bs4\n",
      "  Building wheel for bs4 (setup.py) ... \u001b[?25ldone\n",
      "\u001b[?25h  Created wheel for bs4: filename=bs4-0.0.1-py3-none-any.whl size=1272 sha256=34c11df6b19d98b98943a2848ba4c80378f7bbef014279c2c14b9cb530c2e086\n",
      "  Stored in directory: /Users/shakeel/Library/Caches/pip/wheels/73/2b/cb/099980278a0c9a3e57ff1a89875ec07bfa0b6fcbebb9a8cad3\n",
      "Successfully built bs4\n",
      "Installing collected packages: bs4\n",
      "Successfully installed bs4-0.0.1\n"
     ]
    }
   ],
   "source": [
    "# !python -m pip install selenium\n",
    "# !python -m pip install requests\n",
    "# !python -m pip install urllib3\n",
    "# !pip install bs4"
   ]
  },
  {
   "cell_type": "code",
   "execution_count": 23,
   "id": "7038b45f",
   "metadata": {},
   "outputs": [
    {
     "name": "stdout",
     "output_type": "stream",
     "text": [
      "\n",
      "\n",
      "\n",
      "1970[edit]\n"
     ]
    }
   ],
   "source": [
    "# import required modules\n",
    "import requests\n",
    "from bs4 import BeautifulSoup\n",
    " \n",
    "# get URL\n",
    "page = requests.get(\"https://en.wikipedia.org/wiki/Timeline_of_Pakistani_history_(1947–present)\")\n",
    " \n",
    "# scrape webpage\n",
    "soup = BeautifulSoup(page.content, 'html.parser')\n",
    " \n",
    "list(soup.children)\n",
    " \n",
    "# find all occurrence of p in HTML\n",
    "# includes HTML tags\n",
    "#print(soup.find_all('h2'))\n",
    " \n",
    "print('\\n\\n')\n",
    " \n",
    "# return only text\n",
    "# does not include HTML tags\n",
    "print(soup.find_all('h3')[20].get_text())"
   ]
  },
  {
   "cell_type": "code",
   "execution_count": null,
   "id": "5120a40f",
   "metadata": {},
   "outputs": [],
   "source": []
  }
 ],
 "metadata": {
  "kernelspec": {
   "display_name": "Python 3 (ipykernel)",
   "language": "python",
   "name": "python3"
  },
  "language_info": {
   "codemirror_mode": {
    "name": "ipython",
    "version": 3
   },
   "file_extension": ".py",
   "mimetype": "text/x-python",
   "name": "python",
   "nbconvert_exporter": "python",
   "pygments_lexer": "ipython3",
   "version": "3.9.12"
  }
 },
 "nbformat": 4,
 "nbformat_minor": 5
}
