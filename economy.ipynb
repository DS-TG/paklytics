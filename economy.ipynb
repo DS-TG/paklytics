{
 "cells": [
  {
   "cell_type": "code",
   "execution_count": 1,
   "id": "a7a389d9",
   "metadata": {},
   "outputs": [],
   "source": [
    "import pandas as pd\n",
    "import glob\n",
    "import os\n",
    "import plotly.express as px\n",
    "import plotly.graph_objects as go\n",
    "\n",
    "\n",
    "\n",
    "import pprint\n",
    "pp = pprint.PrettyPrinter()"
   ]
  },
  {
   "cell_type": "code",
   "execution_count": 8,
   "id": "b833af43",
   "metadata": {},
   "outputs": [
    {
     "name": "stdout",
     "output_type": "stream",
     "text": [
      "Economy - Available Datasets:\n",
      "-----------------------------\n",
      "['pakistan-inflation-rate-cpi',\n",
      " 'pakistan-gni-gross-national-income',\n",
      " 'pakistan-economic-growth-rate',\n",
      " 'pakistan-gdp-gross-domestic-product',\n",
      " 'pakistan-gdp-growth-rate',\n",
      " 'preprocessed',\n",
      " 'pakistan-gdp-per-capita',\n",
      " 'pakistan-gni-per-capita',\n",
      " 'pakistan-debt-to-gdp-ratio',\n",
      " 'pakistan-gnp-gross-national-product',\n",
      " 'pakistan-manufacturing-output']\n"
     ]
    }
   ],
   "source": [
    "# Load and display datasets \n",
    "path = r'/Users/shakeel/Documents/paklytics/economy'\n",
    "allFiles = glob.glob(path + \"/*.csv\")\n",
    "allFiles\n",
    "\n",
    "# Read in the data + save as a dict\n",
    "dataStorage_economy = {}\n",
    "for filename in allFiles:\n",
    "    name = os.path.basename(filename).split(\".\")[0]\n",
    "    #print(name)\n",
    "    dataStorage_economy[name] = pd.read_csv(filename, skiprows=16, na_values='NaN')\n",
    "\n",
    "print(\"Economy - Available Datasets:\")\n",
    "print(\"-----------------------------\")\n",
    "pp.pprint(list(dataStorage_economy.keys()))"
   ]
  },
  {
   "cell_type": "code",
   "execution_count": 9,
   "id": "c0d5c474",
   "metadata": {},
   "outputs": [
    {
     "name": "stdout",
     "output_type": "stream",
     "text": [
      "Trade - Available Datasets:\n",
      "---------------------------\n",
      "['pakistan-tariff-rates',\n",
      " 'pakistan-foreign-direct-investment',\n",
      " 'pakistan-exports',\n",
      " 'pakistan-tourism-statistics',\n",
      " 'pakistan-imports',\n",
      " 'pakistan-trade-gdp-ratio',\n",
      " 'pakistan-trade-balance-deficit']\n"
     ]
    }
   ],
   "source": [
    "# Load and display datasets \n",
    "path = r'/Users/shakeel/Documents/paklytics/trade'\n",
    "allFiles = glob.glob(path + \"/*.csv\")\n",
    "allFiles\n",
    "\n",
    "# Read in the data + save as a dict\n",
    "dataStorage_trade = {}\n",
    "for filename in allFiles:\n",
    "    name = os.path.basename(filename).split(\".\")[0]\n",
    "    #print(name)\n",
    "    dataStorage_trade[name] = pd.read_csv(filename, skiprows=16, na_values='NaN')\n",
    "\n",
    "print(\"Trade - Available Datasets:\")\n",
    "print(\"---------------------------\")\n",
    "pp.pprint(list(dataStorage_trade.keys()))"
   ]
  },
  {
   "cell_type": "code",
   "execution_count": 16,
   "id": "adf77356",
   "metadata": {},
   "outputs": [
    {
     "data": {
      "text/html": [
       "<div>\n",
       "<style scoped>\n",
       "    .dataframe tbody tr th:only-of-type {\n",
       "        vertical-align: middle;\n",
       "    }\n",
       "\n",
       "    .dataframe tbody tr th {\n",
       "        vertical-align: top;\n",
       "    }\n",
       "\n",
       "    .dataframe thead th {\n",
       "        text-align: right;\n",
       "    }\n",
       "</style>\n",
       "<table border=\"1\" class=\"dataframe\">\n",
       "  <thead>\n",
       "    <tr style=\"text-align: right;\">\n",
       "      <th></th>\n",
       "      <th>0</th>\n",
       "    </tr>\n",
       "  </thead>\n",
       "  <tbody>\n",
       "    <tr>\n",
       "      <th>0</th>\n",
       "      <td>4.7619</td>\n",
       "    </tr>\n",
       "    <tr>\n",
       "      <th>1</th>\n",
       "      <td>4.7619</td>\n",
       "    </tr>\n",
       "    <tr>\n",
       "      <th>2</th>\n",
       "      <td>4.7619</td>\n",
       "    </tr>\n",
       "    <tr>\n",
       "      <th>3</th>\n",
       "      <td>4.7619</td>\n",
       "    </tr>\n",
       "    <tr>\n",
       "      <th>4</th>\n",
       "      <td>4.7619</td>\n",
       "    </tr>\n",
       "    <tr>\n",
       "      <th>...</th>\n",
       "      <td>...</td>\n",
       "    </tr>\n",
       "    <tr>\n",
       "      <th>57</th>\n",
       "      <td>105.455162</td>\n",
       "    </tr>\n",
       "    <tr>\n",
       "      <th>58</th>\n",
       "      <td>121.824069</td>\n",
       "    </tr>\n",
       "    <tr>\n",
       "      <th>59</th>\n",
       "      <td>150.036254</td>\n",
       "    </tr>\n",
       "    <tr>\n",
       "      <th>60</th>\n",
       "      <td>161.83848</td>\n",
       "    </tr>\n",
       "    <tr>\n",
       "      <th>61</th>\n",
       "      <td>162.906254</td>\n",
       "    </tr>\n",
       "  </tbody>\n",
       "</table>\n",
       "<p>62 rows × 1 columns</p>\n",
       "</div>"
      ],
      "text/plain": [
       "             0\n",
       "0       4.7619\n",
       "1       4.7619\n",
       "2       4.7619\n",
       "3       4.7619\n",
       "4       4.7619\n",
       "..         ...\n",
       "57  105.455162\n",
       "58  121.824069\n",
       "59  150.036254\n",
       "60   161.83848\n",
       "61  162.906254\n",
       "\n",
       "[62 rows x 1 columns]"
      ]
     },
     "execution_count": 16,
     "metadata": {},
     "output_type": "execute_result"
    }
   ],
   "source": [
    "pex = pd.read_csv('files/pex.csv')\n",
    "\n",
    "pex = pex.T\n",
    "pex = pex[1:-1]\n",
    "pex = pex.reset_index(drop=True)\n",
    "pex"
   ]
  },
  {
   "cell_type": "code",
   "execution_count": 17,
   "id": "e882142c",
   "metadata": {},
   "outputs": [
    {
     "name": "stdout",
     "output_type": "stream",
     "text": [
      "          date   GDP ( Billions of US $)   Per Capita (US $)   Annual % Change\n",
      "0   1960-12-31                  3.749265             83.3379               NaN\n",
      "1   1961-12-31                  4.118648             89.4090            5.9873\n",
      "2   1962-12-31                  4.310164             91.3192            4.4829\n",
      "3   1963-12-31                  4.630827             95.7034            8.6888\n",
      "4   1964-12-31                  5.204956            104.8802            7.5698\n",
      "..         ...                       ...                 ...               ...\n",
      "57  2017-12-31                339.205616           1631.5319            4.4326\n",
      "58  2018-12-31                356.128225           1678.0432            6.1517\n",
      "59  2019-12-31                320.909489           1481.8139            2.4976\n",
      "60  2020-12-31                300.306332           1359.5145           -1.3295\n",
      "61  2021-12-31                346.343170           1537.9364            6.0298\n",
      "\n",
      "[62 rows x 4 columns]\n",
      "          date   Billions of US $   % of GDP         \n",
      "0   1960-12-31           0.495590    13.2183      NaN\n",
      "1   1961-12-31           0.577278    14.0162   4.9306\n",
      "2   1962-12-31           0.620328    14.3922   0.7963\n",
      "3   1963-12-31           0.732255    15.8126  17.7129\n",
      "4   1964-12-31           0.801764    15.4039   6.5998\n",
      "..         ...                ...        ...      ...\n",
      "57  2017-12-31          58.514407    17.2504  18.9836\n",
      "58  2018-12-31          67.821973    19.0443  15.7333\n",
      "59  2019-12-31          62.624564    19.5147   7.6119\n",
      "60  2020-12-31          52.327306    17.4246  -5.0635\n",
      "61  2021-12-31          69.042352    19.9347   5.4930\n",
      "\n",
      "[62 rows x 4 columns]\n",
      "          date   Billions of US $   % of GDP         \n",
      "0   1960-12-31           0.269005     7.1749      NaN\n",
      "1   1961-12-31           0.255985     6.2153   2.9931\n",
      "2   1962-12-31           0.288744     6.6991   3.0765\n",
      "3   1963-12-31           0.378622     8.1761  38.9665\n",
      "4   1964-12-31           0.401932     7.7221  -2.5226\n",
      "..         ...                ...        ...      ...\n",
      "57  2017-12-31          27.888171     8.2216   2.4713\n",
      "58  2018-12-31          30.562211     8.5818  10.0406\n",
      "59  2019-12-31          30.136172     9.3909  13.1723\n",
      "60  2020-12-31          27.935258     9.3023   1.5154\n",
      "61  2021-12-31          34.569035     9.9812   4.8151\n",
      "\n",
      "[62 rows x 4 columns]\n"
     ]
    }
   ],
   "source": [
    "gdp = dataStorage_economy['pakistan-gdp-gross-domestic-product']\n",
    "imp = dataStorage_trade['pakistan-imports']\n",
    "exp = dataStorage_trade['pakistan-exports']\n",
    "\n",
    "print(gdp)\n",
    "print(imp)\n",
    "print(exp)"
   ]
  },
  {
   "cell_type": "code",
   "execution_count": null,
   "id": "1967990b",
   "metadata": {},
   "outputs": [],
   "source": [
    "gdp = gdp.rename(columns = {'date': 'year', ' GDP ( Billions of US $)': 'GDP_USD_billion', ' Per Capita (US $)': 'GDP_perCapita_USD', ' Annual % Change': 'GDP_percentage_change' }, inplace = False)\n",
    "gdp['year'] = pd.DatetimeIndex(gdp['year']).year\n",
    "gdp"
   ]
  },
  {
   "cell_type": "code",
   "execution_count": null,
   "id": "d8be0f8c",
   "metadata": {},
   "outputs": [],
   "source": [
    "exp.columns"
   ]
  },
  {
   "cell_type": "code",
   "execution_count": null,
   "id": "acdec90a",
   "metadata": {},
   "outputs": [],
   "source": [
    "imp = imp.rename(columns = {'date': 'year', ' Billions of US $': 'imports_USD_billion', ' % of GDP': 'import_GDP_percentage'}, inplace = False)\n",
    "exp = exp.rename(columns = {'date': 'year', ' Billions of US $': 'exports_USD_billion', ' % of GDP': 'export_GDP_percentage'}, inplace = False)\n",
    "\n",
    "imp['year'] = pd.DatetimeIndex(imp['year']).year\n",
    "exp['year'] = pd.DatetimeIndex(exp['year']).year\n",
    "\n",
    "print(imp)\n",
    "print(exp)"
   ]
  },
  {
   "cell_type": "code",
   "execution_count": null,
   "id": "e78024b2",
   "metadata": {},
   "outputs": [],
   "source": [
    "data = pd.merge(gdp, imp, on='year', how='outer')\n",
    "data = pd.merge(data, exp, on='year', how='outer')\n",
    "del data[' _x']\n",
    "del data[' _y']\n",
    "del data['GDP_percentage_change']\n",
    "data"
   ]
  },
  {
   "cell_type": "code",
   "execution_count": null,
   "id": "1d4e1254",
   "metadata": {},
   "outputs": [],
   "source": [
    "data = pd.merge (data, tl, on='year', how='outer')\n",
    "data"
   ]
  },
  {
   "cell_type": "code",
   "execution_count": null,
   "id": "4e4d570a",
   "metadata": {
    "scrolled": false
   },
   "outputs": [],
   "source": [
    "# data.dtypes\n",
    "data = data[data['year'] >= 1960].reset_index()\n",
    "del data['index']\n",
    "data\n",
    "                 "
   ]
  },
  {
   "cell_type": "code",
   "execution_count": null,
   "id": "2caeaa37",
   "metadata": {},
   "outputs": [],
   "source": [
    "data.columns\n",
    "data = data[['year', 'imports_USD_billion', 'exports_USD_billion']]\n",
    "data"
   ]
  },
  {
   "cell_type": "code",
   "execution_count": null,
   "id": "ce523934",
   "metadata": {},
   "outputs": [],
   "source": [
    "df = (data\n",
    "    .reset_index()\n",
    "    .melt(id_vars='year', var_name='stats', value_name='value')\n",
    "    .set_index('year')\n",
    ")\n",
    "display(df.to_string())\n"
   ]
  },
  {
   "cell_type": "code",
   "execution_count": null,
   "id": "0a6dbc32",
   "metadata": {},
   "outputs": [],
   "source": [
    "df = df[df.stats != 'index']\n",
    "\n",
    "#df['year'] = df.index\n",
    "df.reset_index(inplace=True)\n",
    "df"
   ]
  },
  {
   "cell_type": "code",
   "execution_count": null,
   "id": "73832b33",
   "metadata": {},
   "outputs": [],
   "source": [
    "imports=df[df['stats'].isin(['imports_USD_billion'])]\n",
    "exports=df[df['stats'].isin(['exports_USD_billion'])]\n",
    "\n",
    "imports"
   ]
  },
  {
   "cell_type": "code",
   "execution_count": null,
   "id": "0fbfb8b4",
   "metadata": {},
   "outputs": [],
   "source": [
    "trace1 = go.Scatter(x=imports['year'][:2],\n",
    "                    y=imports['value'][:2],\n",
    "                    mode='lines',\n",
    "                    line=dict(width=1.5))\n",
    "\n",
    "\n",
    "trace2 = go.Scatter(x = exports['year'][:2],\n",
    "                    y = exports['value'][:2],\n",
    "                    mode='lines',\n",
    "                    line=dict(width=1.5))\n",
    "\n",
    "\n",
    "frames = [dict(data= [dict(type='scatter',\n",
    "                           x=imports['year'][:k+1],\n",
    "                           y=imports['value'][:k+1]),\n",
    "                      dict(type='scatter',\n",
    "                           x=exports['year'][:k+1],\n",
    "                           y=exports['value'][:k+1]),\n",
    "                     ],\n",
    "               traces= [0, 1],  \n",
    "              )for k  in  range(1, len(imports)-1)]\n",
    "\n",
    "layout = go.Layout(width=1000,\n",
    "                   height=600,\n",
    "                   showlegend=False,\n",
    "                   hovermode='x unified',\n",
    "                   updatemenus=[\n",
    "                        dict(\n",
    "                            type='buttons', showactive=False,\n",
    "                            y=1.05,\n",
    "                            x=1.15,\n",
    "                            xanchor='right',\n",
    "                            yanchor='top',\n",
    "                            pad=dict(t=0, r=10),\n",
    "                            buttons=[dict(label='Play',\n",
    "                            method='animate',\n",
    "                            args=[None, \n",
    "                                  dict(frame=dict(duration=100, \n",
    "                                                  redraw=False),\n",
    "                                                  transition=dict(duration=10),\n",
    "                                                  fromcurrent=True,\n",
    "                                                  mode='immediate')]\n",
    "                            )]\n",
    "                        ),\n",
    "                        dict(\n",
    "                            type = \"buttons\",\n",
    "                            direction = \"left\",\n",
    "                            buttons=list([\n",
    "                                dict(\n",
    "                                    args=[{\"yaxis.type\": \"linear\"}],\n",
    "                                    label=\"LINEAR\",\n",
    "                                    method=\"relayout\"\n",
    "                                ),\n",
    "                                dict(\n",
    "                                    args=[{\"yaxis.type\": \"log\"}],\n",
    "                                    label=\"LOG\",\n",
    "                                    method=\"relayout\"\n",
    "                                )\n",
    "                            ]),\n",
    "                        ),\n",
    "                    ]              \n",
    "                  )\n",
    "\n",
    "layout.update(xaxis =dict(range=['1960', '2022'], autorange=False),\n",
    "              yaxis =dict(range=[0, 80], autorange=False));\n",
    "\n",
    "\n",
    "\n",
    "fig = go.Figure(data=[trace1, trace2], frames=frames, layout=layout)\n",
    "\n",
    "\n",
    "fig.show()\n"
   ]
  },
  {
   "cell_type": "code",
   "execution_count": null,
   "id": "9868a16d",
   "metadata": {},
   "outputs": [],
   "source": []
  },
  {
   "cell_type": "code",
   "execution_count": null,
   "id": "7876bb55",
   "metadata": {},
   "outputs": [],
   "source": [
    "fig = px.line(df, x=df.index, y=\"value\", color=\"stats\", \n",
    "             custom_data=['stats', 'value' ])\n",
    "\n",
    "\n",
    "fig.update_traces(mode=\"markers+lines\")\n",
    "\n",
    "fig.update_traces(\n",
    "    hovertemplate=\"<br>\".join([\n",
    "        #\"Year: %{x}\",\n",
    "        #\"ColY: %{y}\",\n",
    "        #\"%{customdata[0]}\",\n",
    "        \"Value: %{customdata[1]}\",\n",
    "        #\"Col3: %{customdata[2]}\",\n",
    "    ])\n",
    ")\n",
    "\n",
    "fig.update_layout(\n",
    "    #hovermode='x unified',\n",
    "    updatemenus=[\n",
    "        dict(\n",
    "            type = \"buttons\",\n",
    "            direction = \"left\",\n",
    "            buttons=list([\n",
    "                dict(\n",
    "                    args=[{\"yaxis.type\": \"linear\"}],\n",
    "                    label=\"LINEAR\",\n",
    "                    method=\"relayout\"\n",
    "                ),\n",
    "                dict(\n",
    "                    args=[{\"yaxis.type\": \"log\"}],\n",
    "                    label=\"LOG\",\n",
    "                    method=\"relayout\"\n",
    "                )\n",
    "            ]),\n",
    "        ),\n",
    "    ]\n",
    ")\n",
    "\n",
    "# fig.add_vrect(x0=\"2018\", x1=\"2021\", \n",
    "#               annotation_text=\"PTI\", annotation_position=\"top left\",\n",
    "#               fillcolor=\"green\", opacity=0.25, line_width=0)\n",
    "\n",
    "fig.show()"
   ]
  },
  {
   "cell_type": "code",
   "execution_count": null,
   "id": "d222ed50",
   "metadata": {},
   "outputs": [],
   "source": []
  },
  {
   "cell_type": "code",
   "execution_count": null,
   "id": "05f04997",
   "metadata": {},
   "outputs": [],
   "source": []
  },
  {
   "cell_type": "code",
   "execution_count": null,
   "id": "33bd37eb",
   "metadata": {},
   "outputs": [],
   "source": []
  },
  {
   "cell_type": "code",
   "execution_count": null,
   "id": "d7a0b55b",
   "metadata": {},
   "outputs": [],
   "source": [
    "df = gdp\n",
    "fig = px.line(gdp, x=\"date\", y=\" GDP ( Billions of US $)\", title='Pakistan GDP')\n",
    "fig.add_scatter(x=imp['date'], y=imp[' Billions of US $'], mode='lines')\n",
    "fig.add_scatter(x=exp['date'], y=exp[' Billions of US $'], mode='lines')\n",
    "\n",
    "\n",
    "\n",
    "fig.show()"
   ]
  },
  {
   "cell_type": "code",
   "execution_count": null,
   "id": "3ba65671",
   "metadata": {},
   "outputs": [],
   "source": []
  }
 ],
 "metadata": {
  "kernelspec": {
   "display_name": "Python 3 (ipykernel)",
   "language": "python",
   "name": "python3"
  },
  "language_info": {
   "codemirror_mode": {
    "name": "ipython",
    "version": 3
   },
   "file_extension": ".py",
   "mimetype": "text/x-python",
   "name": "python",
   "nbconvert_exporter": "python",
   "pygments_lexer": "ipython3",
   "version": "3.9.12"
  }
 },
 "nbformat": 4,
 "nbformat_minor": 5
}
